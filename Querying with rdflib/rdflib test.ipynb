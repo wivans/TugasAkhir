{
 "cells": [
  {
   "cell_type": "code",
   "execution_count": 1,
   "metadata": {},
   "outputs": [],
   "source": [
    "import rdflib"
   ]
  },
  {
   "cell_type": "code",
   "execution_count": 2,
   "metadata": {},
   "outputs": [],
   "source": [
    "g = rdflib.Graph()"
   ]
  },
  {
   "cell_type": "code",
   "execution_count": 3,
   "metadata": {},
   "outputs": [
    {
     "data": {
      "text/plain": [
       "<Graph identifier=Ncd07c4abcd67400cba0770ed8384bea6 (<class 'rdflib.graph.Graph'>)>"
      ]
     },
     "execution_count": 3,
     "metadata": {},
     "output_type": "execute_result"
    }
   ],
   "source": [
    "g.parse(\"foody.rdf\")"
   ]
  },
  {
   "cell_type": "code",
   "execution_count": 10,
   "metadata": {},
   "outputs": [],
   "source": [
    "qres = g.query(   \n",
    "    \"\"\"\n",
    "PREFIX rdf: <http://www.w3.org/1999/02/22-rdf-syntax-ns#>\n",
    "PREFIX owl: <http://www.w3.org/2002/07/owl#>\n",
    "PREFIX rdfs: <http://www.w3.org/2000/01/rdf-schema#>\n",
    "PREFIX xsd: <http://www.w3.org/2001/XMLSchema#>\n",
    "PREFIX foo: <http://www.semanticweb.org/asus/ontologies/2019/1/untitled-ontology-49#>\n",
    "\tSELECT DISTINCT ?nama\n",
    "\tWHERE { \n",
    "\t\t?Makanan foo:DiKemas ?Kemasan.\n",
    "\t\tfoo:Sate_Ayam foo:DiKemas ?Kemasan.\n",
    "\t\t?Kemasan rdfs:label ?nama.\n",
    "       }\"\"\")"
   ]
  },
  {
   "cell_type": "code",
   "execution_count": 11,
   "metadata": {},
   "outputs": [
    {
     "name": "stdout",
     "output_type": "stream",
     "text": [
      "Sterofoam\n",
      "Kertas Minyak Makanan\n"
     ]
    }
   ],
   "source": [
    "for row in qres:\n",
    "    print(\"%s\" % row)"
   ]
  },
  {
   "cell_type": "code",
   "execution_count": 28,
   "metadata": {},
   "outputs": [],
   "source": [
    "qres = g.query(   \n",
    "    \"\"\"\n",
    "PREFIX rdf: <http://www.w3.org/1999/02/22-rdf-syntax-ns#>\n",
    "PREFIX owl: <http://www.w3.org/2002/07/owl#>\n",
    "PREFIX rdfs: <http://www.w3.org/2000/01/rdf-schema#>\n",
    "PREFIX xsd: <http://www.w3.org/2001/XMLSchema#>\n",
    "PREFIX foo: <http://www.semanticweb.org/asus/ontologies/2019/1/untitled-ontology-49#>\n",
    "SELECT DISTINCT ?name\n",
    "WHERE {\n",
    " ?Bahan foo:DiRebus ?Makanan.\n",
    " ?Bahan rdfs:label ?name .\n",
    "       }\"\"\")"
   ]
  },
  {
   "cell_type": "code",
   "execution_count": 30,
   "metadata": {},
   "outputs": [
    {
     "name": "stdout",
     "output_type": "stream",
     "text": [
      "Daun Salam\n",
      "Salam\n",
      "Bawang Putih\n",
      "Garem\n",
      "Garam\n",
      "Lengkuas\n",
      "Gula Pasir\n",
      "Gula Rafinasi\n",
      "Aer\n",
      "Air\n",
      "Cabai Merah\n",
      "Bawang Merah\n",
      "Cabai Hijau\n",
      "Daun Melinjo\n",
      "Ketumbar\n",
      "Nangka Muda\n",
      "Terong\n",
      "Terasi\n",
      "Daging Ayam\n",
      "Kencur\n",
      "Tahu\n",
      "Santan\n",
      "Labu Siam\n",
      "Kacang Panjang\n",
      "Telur Ayam\n",
      "Tepung Tapioka\n",
      "Daging Sapi\n",
      "Merica\n",
      "Lada/Merica\n",
      "Lada\n",
      "Kemiri\n",
      "Tempe\n",
      "Indomie\n",
      "Mie Instan\n",
      "Kaldu Ayam\n",
      "Tomat\n"
     ]
    }
   ],
   "source": [
    "for row in qres:\n",
    "    print(\"%s\" % row)"
   ]
  },
  {
   "cell_type": "code",
   "execution_count": 14,
   "metadata": {},
   "outputs": [],
   "source": [
    "qres = g.query(   \n",
    "    \"\"\"\n",
    "PREFIX rdf: <http://www.w3.org/1999/02/22-rdf-syntax-ns#>\n",
    "PREFIX owl: <http://www.w3.org/2002/07/owl#>\n",
    "PREFIX rdfs: <http://www.w3.org/2000/01/rdf-schema#>\n",
    "PREFIX xsd: <http://www.w3.org/2001/XMLSchema#>\n",
    "PREFIX foo: <http://www.semanticweb.org/asus/ontologies/2019/1/untitled-ontology-49#>\n",
    "SELECT DISTINCT ?nama1 ?nama2\n",
    "WHERE {\n",
    " \t?Makanan foo:Temperatur ?temp;\n",
    "\t\trdfs:label ?nama1.\n",
    "\tFILTER (?temp='Panas').\n",
    "\t?Minuman foo:Temperatur ?temp2;\n",
    "\t\trdfs:label ?nama2.\n",
    "\tFILTER (?temp2='Dingin').\n",
    "       }\"\"\")"
   ]
  },
  {
   "cell_type": "code",
   "execution_count": 19,
   "metadata": {},
   "outputs": [
    {
     "name": "stdout",
     "output_type": "stream",
     "text": [
      "Indomie Rebus sama Susu\n",
      "Indomie Rebus sama Sirup\n"
     ]
    }
   ],
   "source": [
    "for row in qres:\n",
    "    print(\"%s sama %s\" % row)"
   ]
  },
  {
   "cell_type": "code",
   "execution_count": 20,
   "metadata": {},
   "outputs": [],
   "source": [
    "qres = g.query(   \n",
    "    \"\"\"\n",
    "PREFIX rdf: <http://www.w3.org/1999/02/22-rdf-syntax-ns#>\n",
    "PREFIX owl: <http://www.w3.org/2002/07/owl#>\n",
    "PREFIX rdfs: <http://www.w3.org/2000/01/rdf-schema#>\n",
    "PREFIX xsd: <http://www.w3.org/2001/XMLSchema#>\n",
    "PREFIX foo: <http://www.semanticweb.org/asus/ontologies/2019/1/untitled-ontology-49#>\n",
    "\tSELECT DISTINCT ?nama\n",
    "\tWHERE { \n",
    "\t\t?Makanan foo:DiKemas ?Kemasan.\n",
    "\t\tfoo:Sate_Ayam foo:DiKemas ?Kemasan.\n",
    "\t\t?Kemasan rdfs:label ?nama.\n",
    "       }\"\"\")"
   ]
  },
  {
   "cell_type": "code",
   "execution_count": 25,
   "metadata": {},
   "outputs": [
    {
     "name": "stdout",
     "output_type": "stream",
     "text": [
      "Kertas Minyak Makanan\n",
      "Sterofoam\n"
     ]
    }
   ],
   "source": [
    "for row in qres:\n",
    "    print(\"%s\" % row)"
   ]
  }
 ],
 "metadata": {
  "kernelspec": {
   "display_name": "Python 3",
   "language": "python",
   "name": "python3"
  },
  "language_info": {
   "codemirror_mode": {
    "name": "ipython",
    "version": 3
   },
   "file_extension": ".py",
   "mimetype": "text/x-python",
   "name": "python",
   "nbconvert_exporter": "python",
   "pygments_lexer": "ipython3",
   "version": "3.6.8"
  }
 },
 "nbformat": 4,
 "nbformat_minor": 2
}
